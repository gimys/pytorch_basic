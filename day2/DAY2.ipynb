{
 "cells": [
  {
   "cell_type": "markdown",
   "metadata": {},
   "source": [
    "# DAY2"
   ]
  },
  {
   "cell_type": "markdown",
   "metadata": {},
   "source": [
    "## 1. Python Class 설명"
   ]
  },
  {
   "cell_type": "markdown",
   "metadata": {},
   "source": [
    "### 1) class 생성"
   ]
  },
  {
   "cell_type": "code",
   "execution_count": 7,
   "metadata": {},
   "outputs": [],
   "source": [
    "class dog:\n",
    "    def bark(self):\n",
    "        print('멍멍')"
   ]
  },
  {
   "cell_type": "code",
   "execution_count": 18,
   "metadata": {},
   "outputs": [
    {
     "name": "stdout",
     "output_type": "stream",
     "text": [
      "멍멍\n"
     ]
    }
   ],
   "source": [
    "dog().bark()"
   ]
  },
  {
   "cell_type": "code",
   "execution_count": 19,
   "metadata": {},
   "outputs": [
    {
     "name": "stdout",
     "output_type": "stream",
     "text": [
      "멍멍\n"
     ]
    }
   ],
   "source": [
    "tmp_dog = dog()\n",
    "tmp_dog.bark()"
   ]
  },
  {
   "cell_type": "markdown",
   "metadata": {},
   "source": [
    "- dog라는 class를 만들고, bark라는 method를 내부에 만든다.\n",
    "- dog에 포함된 method는 dog().bark()처럼 호출할 수 있다.\n",
    "- tmp_dog에 dog라는 instance를 생성하고, instance에서 method를 호출 할 수 있다."
   ]
  },
  {
   "cell_type": "markdown",
   "metadata": {},
   "source": [
    "### 2) init(초기화 method)"
   ]
  },
  {
   "cell_type": "code",
   "execution_count": 22,
   "metadata": {},
   "outputs": [],
   "source": [
    "class dog:\n",
    "    def __init__(self, name='댕댕이', color='검정'):\n",
    "        self.name = name\n",
    "        self.color = color\n",
    "    \n",
    "    def bark(self):\n",
    "        print('멍멍')\n",
    "        \n",
    "    def info(self):\n",
    "        print('이 개의 이름은 %s이고 색깔은 %s이다.' %(self.name, self.color))        "
   ]
  },
  {
   "cell_type": "code",
   "execution_count": 25,
   "metadata": {
    "scrolled": true
   },
   "outputs": [
    {
     "name": "stdout",
     "output_type": "stream",
     "text": [
      "이 개의 이름은 댕댕이이고 색깔은 검정이다.\n"
     ]
    }
   ],
   "source": [
    "dog().info()"
   ]
  },
  {
   "cell_type": "code",
   "execution_count": 26,
   "metadata": {},
   "outputs": [
    {
     "name": "stdout",
     "output_type": "stream",
     "text": [
      "이 개의 이름은 멍멍이이고 색깔은 흰색이다.\n"
     ]
    }
   ],
   "source": [
    "dog('멍멍이', '흰색').info()"
   ]
  },
  {
   "cell_type": "markdown",
   "metadata": {},
   "source": [
    "- init은 초기화 method로 instance 생성시 기본 값을 초기화 한다.\n",
    "- dog()와 같이 아무 변수도 설정하지 않으면, init method의 기본 값을 instance에 할당한다.\n",
    "- dog()와 같이 name과 color에 새로운 값을 주면, 설정한 값으로 instance에 할당한다."
   ]
  },
  {
   "cell_type": "markdown",
   "metadata": {},
   "source": [
    "### 3) self"
   ]
  },
  {
   "cell_type": "code",
   "execution_count": 30,
   "metadata": {},
   "outputs": [
    {
     "name": "stdout",
     "output_type": "stream",
     "text": [
      "이 개의 이름은 댕댕이이고 색깔은 검정이다.\n"
     ]
    }
   ],
   "source": [
    "tmp_dog1 = dog()\n",
    "tmp_dog1.info()"
   ]
  },
  {
   "cell_type": "code",
   "execution_count": 31,
   "metadata": {},
   "outputs": [
    {
     "name": "stdout",
     "output_type": "stream",
     "text": [
      "이 개의 이름은 댕댕댕댕이고 색깔은 갈색이다.\n"
     ]
    }
   ],
   "source": [
    "tmp_dog2 = dog('댕댕댕댕', '갈색')\n",
    "tmp_dog2.info()"
   ]
  },
  {
   "cell_type": "markdown",
   "metadata": {},
   "source": [
    "- 위의 class에서 self는 instance를 지칭하는 것으로, class의 method들은 self가 첫번째 매개변수로 되어 있다.\n",
    "- 따라서 어떠한 instance를 생성하고 method를 호출하면 해당 instance는 self를 통해서 method를 호출하는 것이다.\n",
    "- info는 self.name과 self.color의 값을 알려주는 method인데 여기서 self는 할당한 instance를 나타낸다.\n",
    "- 따라서 tmp_dog1은 기본 값에 들어간 '댕댕이'와 '검정'이 출력되는 것을 알 수 있다.\n",
    "- tmp_dog2는 새로 설정한 '댕댕댕댕'과 '갈색'이 출력되는 것을 알 수 있다."
   ]
  },
  {
   "cell_type": "markdown",
   "metadata": {},
   "source": [
    "### 4) 상속"
   ]
  },
  {
   "cell_type": "code",
   "execution_count": 41,
   "metadata": {},
   "outputs": [],
   "source": [
    "class dog:\n",
    "    def __init__(self, name, color):\n",
    "        self.name = name\n",
    "        self.color = color\n",
    "    \n",
    "    def bark(self):\n",
    "        print('멍멍')\n",
    "        \n",
    "    def info(self):\n",
    "        print('이 개의 이름은 %s이고 색깔은 %s이다.' %(self.name, self.color))\n",
    "        \n",
    "\n",
    "class room_number(dog):\n",
    "    def __init__(self, name, color, room):\n",
    "        dog.__init__(self, name, color)\n",
    "        self.room = room\n",
    "    \n",
    "    def room_info(self):\n",
    "        print('%s방에 있는 개의 이름은 %s고 색깔은 %s이다' %(self.room, self.name, self.color))    "
   ]
  },
  {
   "cell_type": "code",
   "execution_count": 42,
   "metadata": {},
   "outputs": [
    {
     "name": "stdout",
     "output_type": "stream",
     "text": [
      "이 개의 이름은 1번 개이고 색깔은 1번 색상이다.\n"
     ]
    }
   ],
   "source": [
    "tmp_room1 = room_number('1번 개', '1번 색상', '101호')\n",
    "tmp_room1.info()"
   ]
  },
  {
   "cell_type": "code",
   "execution_count": 43,
   "metadata": {},
   "outputs": [
    {
     "name": "stdout",
     "output_type": "stream",
     "text": [
      "101호방에 있는 개의 이름은 1번 개고 색깔은 1번 색상이다\n"
     ]
    }
   ],
   "source": [
    "tmp_room1.room_info()"
   ]
  },
  {
   "cell_type": "markdown",
   "metadata": {},
   "source": [
    "- room_number라는  class에 부모 class인 dog를 상속하여 dog에 있는 method를 사용할 수 있다.\n",
    "- 따라서 tmp_room1이라는 instance에서는 dog class의 info()와 room_number class의 room_info()를 모두 사용할 수 있다."
   ]
  },
  {
   "cell_type": "markdown",
   "metadata": {},
   "source": [
    "### 5) super"
   ]
  },
  {
   "cell_type": "code",
   "execution_count": 44,
   "metadata": {},
   "outputs": [],
   "source": [
    "class dog:\n",
    "    def __init__(self, name, color):\n",
    "        self.name = name\n",
    "        self.color = color\n",
    "    \n",
    "    def bark(self):\n",
    "        print('멍멍')\n",
    "        \n",
    "    def info(self):\n",
    "        print('이 개의 이름은 %s이고 색깔은 %s이다.' %(self.name, self.color))\n",
    "        \n",
    "\n",
    "class room_number(dog):\n",
    "    def __init__(self, name, color, room):\n",
    "        super().__init__(name, color)\n",
    "        self.room = room\n",
    "    \n",
    "    def room_info(self):\n",
    "        print('%s방에 있는 개의 이름은 %s고 색깔은 %s이다' %(self.room, self.name, self.color))    "
   ]
  },
  {
   "cell_type": "code",
   "execution_count": 45,
   "metadata": {},
   "outputs": [
    {
     "name": "stdout",
     "output_type": "stream",
     "text": [
      "이 개의 이름은 1번 개이고 색깔은 1번 색상이다.\n"
     ]
    }
   ],
   "source": [
    "tmp_room1 = room_number('1번 개', '1번 색상', '101호')\n",
    "tmp_room1.info()"
   ]
  },
  {
   "cell_type": "code",
   "execution_count": 46,
   "metadata": {},
   "outputs": [
    {
     "name": "stdout",
     "output_type": "stream",
     "text": [
      "101호방에 있는 개의 이름은 1번 개고 색깔은 1번 색상이다\n"
     ]
    }
   ],
   "source": [
    "tmp_room1.room_info()"
   ]
  },
  {
   "cell_type": "markdown",
   "metadata": {},
   "source": [
    "- super를 사용하면 부모 class를 명시하지 않아도 된다.\n",
    "- 그리고 init에서 self를 생략해도 된다"
   ]
  }
 ],
 "metadata": {
  "kernelspec": {
   "display_name": "Python 3",
   "language": "python",
   "name": "python3"
  },
  "language_info": {
   "codemirror_mode": {
    "name": "ipython",
    "version": 3
   },
   "file_extension": ".py",
   "mimetype": "text/x-python",
   "name": "python",
   "nbconvert_exporter": "python",
   "pygments_lexer": "ipython3",
   "version": "3.8.1"
  }
 },
 "nbformat": 4,
 "nbformat_minor": 4
}
