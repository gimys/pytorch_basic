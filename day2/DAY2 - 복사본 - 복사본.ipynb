{
 "cells": [
  {
   "cell_type": "markdown",
   "metadata": {},
   "source": [
    "# DAY2"
   ]
  },
  {
   "cell_type": "markdown",
   "metadata": {},
   "source": [
    "## 1. Python Class 설명"
   ]
  },
  {
   "cell_type": "markdown",
   "metadata": {},
   "source": [
    "### 1) class 생성"
   ]
  },
  {
   "cell_type": "code",
   "execution_count": 1,
   "metadata": {},
   "outputs": [],
   "source": [
    "class dog:\n",
    "    def bark(self):\n",
    "        print('멍멍')"
   ]
  },
  {
   "cell_type": "code",
   "execution_count": 2,
   "metadata": {},
   "outputs": [
    {
     "name": "stdout",
     "output_type": "stream",
     "text": [
      "멍멍\n"
     ]
    }
   ],
   "source": [
    "dog().bark()"
   ]
  },
  {
   "cell_type": "code",
   "execution_count": 3,
   "metadata": {},
   "outputs": [
    {
     "name": "stdout",
     "output_type": "stream",
     "text": [
      "멍멍\n"
     ]
    }
   ],
   "source": [
    "tmp_dog = dog()\n",
    "tmp_dog.bark()"
   ]
  },
  {
   "cell_type": "markdown",
   "metadata": {},
   "source": [
    "- dog라는 class를 만들고, bark라는 method를 내부에 만든다.\n",
    "- dog에 포함된 method는 dog().bark()처럼 호출할 수 있다.\n",
    "- tmp_dog에 dog라는 instance를 생성하고, instance에서 method를 호출 할 수 있다."
   ]
  },
  {
   "cell_type": "markdown",
   "metadata": {},
   "source": [
    "### 2) init(초기화 method)"
   ]
  },
  {
   "cell_type": "code",
   "execution_count": 4,
   "metadata": {},
   "outputs": [],
   "source": [
    "class dog:\n",
    "    def __init__(self, name='댕댕이', color='검정'):\n",
    "        self.name = name\n",
    "        self.color = color\n",
    "    \n",
    "    def bark(self):\n",
    "        print('멍멍')\n",
    "        \n",
    "    def info(self):\n",
    "        print('이 개의 이름은 %s이고 색깔은 %s이다.' %(self.name, self.color))        "
   ]
  },
  {
   "cell_type": "code",
   "execution_count": 5,
   "metadata": {
    "scrolled": true
   },
   "outputs": [
    {
     "name": "stdout",
     "output_type": "stream",
     "text": [
      "이 개의 이름은 댕댕이이고 색깔은 검정이다.\n"
     ]
    }
   ],
   "source": [
    "dog().info()"
   ]
  },
  {
   "cell_type": "code",
   "execution_count": 6,
   "metadata": {},
   "outputs": [
    {
     "name": "stdout",
     "output_type": "stream",
     "text": [
      "이 개의 이름은 멍멍이이고 색깔은 흰색이다.\n"
     ]
    }
   ],
   "source": [
    "dog('멍멍이', '흰색').info()"
   ]
  },
  {
   "cell_type": "markdown",
   "metadata": {},
   "source": [
    "- init은 초기화 method로 instance 생성시 기본 값을 초기화 한다.\n",
    "- dog()와 같이 아무 변수도 설정하지 않으면, init method의 기본 값을 instance에 할당한다.\n",
    "- dog()와 같이 name과 color에 새로운 값을 주면, 설정한 값으로 instance에 할당한다."
   ]
  },
  {
   "cell_type": "markdown",
   "metadata": {},
   "source": [
    "### 3) self"
   ]
  },
  {
   "cell_type": "code",
   "execution_count": 7,
   "metadata": {},
   "outputs": [
    {
     "name": "stdout",
     "output_type": "stream",
     "text": [
      "이 개의 이름은 댕댕이이고 색깔은 검정이다.\n"
     ]
    }
   ],
   "source": [
    "tmp_dog1 = dog()\n",
    "tmp_dog1.info()"
   ]
  },
  {
   "cell_type": "code",
   "execution_count": 8,
   "metadata": {},
   "outputs": [
    {
     "name": "stdout",
     "output_type": "stream",
     "text": [
      "이 개의 이름은 댕댕댕댕이고 색깔은 갈색이다.\n"
     ]
    }
   ],
   "source": [
    "tmp_dog2 = dog('댕댕댕댕', '갈색')\n",
    "tmp_dog2.info()"
   ]
  },
  {
   "cell_type": "markdown",
   "metadata": {},
   "source": [
    "- 위의 class에서 self는 instance를 지칭하는 것으로, class의 method들은 self가 첫번째 매개변수로 되어 있다.\n",
    "- 따라서 어떠한 instance를 생성하고 method를 호출하면 해당 instance는 self를 통해서 method를 호출하는 것이다.\n",
    "- info는 self.name과 self.color의 값을 알려주는 method인데 여기서 self는 할당한 instance를 나타낸다.\n",
    "- 따라서 tmp_dog1은 기본 값에 들어간 '댕댕이'와 '검정'이 출력되는 것을 알 수 있다.\n",
    "- tmp_dog2는 새로 설정한 '댕댕댕댕'과 '갈색'이 출력되는 것을 알 수 있다."
   ]
  },
  {
   "cell_type": "markdown",
   "metadata": {},
   "source": [
    "### 4) 상속"
   ]
  },
  {
   "cell_type": "code",
   "execution_count": 9,
   "metadata": {},
   "outputs": [],
   "source": [
    "class dog:\n",
    "    def __init__(self, name, color):\n",
    "        self.name = name\n",
    "        self.color = color\n",
    "    \n",
    "    def bark(self):\n",
    "        print('멍멍')\n",
    "        \n",
    "    def info(self):\n",
    "        print('이 개의 이름은 %s이고 색깔은 %s이다.' %(self.name, self.color))\n",
    "        \n",
    "\n",
    "class room_number(dog):\n",
    "    def __init__(self, name, color, room):\n",
    "        dog.__init__(self, name, color)\n",
    "        self.room = room\n",
    "    \n",
    "    def room_info(self):\n",
    "        print('%s방에 있는 개의 이름은 %s고 색깔은 %s이다' %(self.room, self.name, self.color))    "
   ]
  },
  {
   "cell_type": "code",
   "execution_count": 10,
   "metadata": {},
   "outputs": [
    {
     "name": "stdout",
     "output_type": "stream",
     "text": [
      "이 개의 이름은 1번 개이고 색깔은 1번 색상이다.\n"
     ]
    }
   ],
   "source": [
    "tmp_room1 = room_number('1번 개', '1번 색상', '101호')\n",
    "tmp_room1.info()"
   ]
  },
  {
   "cell_type": "code",
   "execution_count": 11,
   "metadata": {},
   "outputs": [
    {
     "name": "stdout",
     "output_type": "stream",
     "text": [
      "101호방에 있는 개의 이름은 1번 개고 색깔은 1번 색상이다\n"
     ]
    }
   ],
   "source": [
    "tmp_room1.room_info()"
   ]
  },
  {
   "cell_type": "markdown",
   "metadata": {},
   "source": [
    "- room_number라는  class에 부모 class인 dog를 상속하여 dog에 있는 method를 사용할 수 있다.\n",
    "- 따라서 tmp_room1이라는 instance에서는 dog class의 info()와 room_number class의 room_info()를 모두 사용할 수 있다."
   ]
  },
  {
   "cell_type": "markdown",
   "metadata": {},
   "source": [
    "### 5) super 예제1"
   ]
  },
  {
   "cell_type": "code",
   "execution_count": 12,
   "metadata": {},
   "outputs": [],
   "source": [
    "class dog:\n",
    "    def __init__(self, name, color):\n",
    "        self.name = name\n",
    "        self.color = color\n",
    "    \n",
    "    def bark(self):\n",
    "        print('멍멍')\n",
    "        \n",
    "    def info(self):\n",
    "        print('이 개의 이름은 %s이고 색깔은 %s이다.' %(self.name, self.color))\n",
    "        \n",
    "\n",
    "class room_number(dog):\n",
    "    def __init__(self, name, color, room):\n",
    "        super().__init__(name, color)\n",
    "        self.room = room\n",
    "    \n",
    "    def room_info(self):\n",
    "        print('%s방에 있는 개의 이름은 %s고 색깔은 %s이다' %(self.room, self.name, self.color))    "
   ]
  },
  {
   "cell_type": "code",
   "execution_count": 13,
   "metadata": {},
   "outputs": [
    {
     "name": "stdout",
     "output_type": "stream",
     "text": [
      "이 개의 이름은 1번 개이고 색깔은 1번 색상이다.\n"
     ]
    }
   ],
   "source": [
    "tmp_room1 = room_number('1번 개', '1번 색상', '101호')\n",
    "tmp_room1.info()"
   ]
  },
  {
   "cell_type": "code",
   "execution_count": 14,
   "metadata": {},
   "outputs": [
    {
     "name": "stdout",
     "output_type": "stream",
     "text": [
      "101호방에 있는 개의 이름은 1번 개고 색깔은 1번 색상이다\n"
     ]
    }
   ],
   "source": [
    "tmp_room1.room_info()"
   ]
  },
  {
   "cell_type": "markdown",
   "metadata": {},
   "source": [
    "- super를 사용하면 부모 class를 명시하지 않아도 된다.\n",
    "- 그리고 init에서 self를 생략해도 된다"
   ]
  },
  {
   "cell_type": "markdown",
   "metadata": {},
   "source": [
    "### 6) super 예제2(pytorch model 생성에서 사용되는 구조 이므로 숙지해야함!)"
   ]
  },
  {
   "cell_type": "code",
   "execution_count": 15,
   "metadata": {},
   "outputs": [],
   "source": [
    "class default_dog:\n",
    "    def __init__(self, name = '1번 개', color = '1번 색상', room = '101호'):\n",
    "        self.name = name\n",
    "        self.color = color\n",
    "        self.room = room\n",
    "    \n",
    "    def bark(self):\n",
    "        print('멍멍')\n",
    "        \n",
    "    def info(self):\n",
    "        print('이 개의 이름은 %s이고 색깔은 %s이다.' %(self.name, self.color))\n",
    "        \n",
    "    def room_info(self):\n",
    "        print('%s방에 있는 개의 이름은 %s고 색깔은 %s이다' %(self.room, self.name, self.color)) \n",
    "        \n",
    "\n",
    "class change_dog(default_dog):\n",
    "    def __init__(self, name, color):\n",
    "        super(change_dog, self).__init__()\n",
    "        self.name = name\n",
    "        self.color = color"
   ]
  },
  {
   "cell_type": "code",
   "execution_count": 16,
   "metadata": {},
   "outputs": [],
   "source": [
    "tmp_room1 = change_dog('2번 개', '2번 색상')"
   ]
  },
  {
   "cell_type": "code",
   "execution_count": 17,
   "metadata": {},
   "outputs": [
    {
     "name": "stdout",
     "output_type": "stream",
     "text": [
      "이 개의 이름은 2번 개이고 색깔은 2번 색상이다.\n"
     ]
    }
   ],
   "source": [
    "tmp_room1.info()"
   ]
  },
  {
   "cell_type": "code",
   "execution_count": 18,
   "metadata": {},
   "outputs": [
    {
     "name": "stdout",
     "output_type": "stream",
     "text": [
      "101호방에 있는 개의 이름은 2번 개고 색깔은 2번 색상이다\n"
     ]
    }
   ],
   "source": [
    "tmp_room1.room_info()"
   ]
  },
  {
   "cell_type": "markdown",
   "metadata": {},
   "source": [
    "- default_dog는 개에 대한 name, color, room의 기본 값이 정해진 class이다.\n",
    "- change_dog에서는 부모 class인 default_dog를 상속받는 구조이다.\n",
    "- change_dog에서 init에서는 name과 color만 새로 parameter 값을 새로 입력 받는다.\n",
    "- super(change_dog, self)를 통해 change_dog의 초기 값은 default_dog의 초기 값으로 설정 된다.\n",
    "- 이후 새로운 parameter를 받기로한 name과 color는 self.name = name과 self.color = color를 통해 입력 받은 값으로 새로 할당된다."
   ]
  },
  {
   "cell_type": "markdown",
   "metadata": {},
   "source": [
    "## 2. pytorch model 생성"
   ]
  },
  {
   "cell_type": "markdown",
   "metadata": {},
   "source": [
    "### 1) 간단한 model 생성"
   ]
  },
  {
   "cell_type": "code",
   "execution_count": 19,
   "metadata": {},
   "outputs": [],
   "source": [
    "import torch"
   ]
  },
  {
   "cell_type": "code",
   "execution_count": 20,
   "metadata": {},
   "outputs": [],
   "source": [
    "class mymodel(torch.nn.Module):\n",
    "    \n",
    "    def __init__(self, input_size, hidden_size, output_size):\n",
    "        super(mymodel,self).__init__()\n",
    "        self.layer1 = torch.nn.Linear(input_size, hidden_size)\n",
    "        self.layer2 = torch.nn.Linear(hidden_size,output_size)\n",
    "        \n",
    "    def forward(self, input):\n",
    "        out1 = self.layer1(input)\n",
    "        out2 = self.layer2(out1)\n",
    "        return out1, out2"
   ]
  },
  {
   "cell_type": "code",
   "execution_count": 21,
   "metadata": {
    "scrolled": true
   },
   "outputs": [
    {
     "data": {
      "text/plain": [
       "mymodel(\n",
       "  (layer1): Linear(in_features=4, out_features=2, bias=True)\n",
       "  (layer2): Linear(in_features=2, out_features=1, bias=True)\n",
       ")"
      ]
     },
     "execution_count": 21,
     "metadata": {},
     "output_type": "execute_result"
    }
   ],
   "source": [
    "tmp_model1 = mymodel(4, 2, 1)\n",
    "tmp_model1"
   ]
  },
  {
   "cell_type": "markdown",
   "metadata": {},
   "source": [
    "- mymodel은 torch.nn.Module의 기본 값을 가져오면서 input_size, hidden_size, output_size는 새로 지정한다.\n",
    "- tmp_model1 = mymodel(4, 2, 1)을 통해 4x2와 2x1의 연산을 거치는 Linear layer 2개를 쌓은 model을 할당한다."
   ]
  },
  {
   "cell_type": "code",
   "execution_count": 22,
   "metadata": {},
   "outputs": [],
   "source": [
    "tmp_input = torch.rand(10,4)\n",
    "calc_layer1, calc_layer2 = tmp_model1.forward(tmp_input)"
   ]
  },
  {
   "cell_type": "code",
   "execution_count": 23,
   "metadata": {},
   "outputs": [
    {
     "data": {
      "text/plain": [
       "tensor([[ 0.5752, -0.1988],\n",
       "        [ 0.5348, -0.3463],\n",
       "        [ 0.5039,  0.0205],\n",
       "        [ 0.4444, -0.0598],\n",
       "        [ 0.4653,  0.0224],\n",
       "        [ 0.3068, -0.0266],\n",
       "        [ 0.4558, -0.0208],\n",
       "        [ 0.5020, -0.1792],\n",
       "        [ 0.5485, -0.2243],\n",
       "        [ 0.5335, -0.3001]], grad_fn=<AddmmBackward>)"
      ]
     },
     "execution_count": 23,
     "metadata": {},
     "output_type": "execute_result"
    }
   ],
   "source": [
    "calc_layer1"
   ]
  },
  {
   "cell_type": "code",
   "execution_count": 24,
   "metadata": {},
   "outputs": [
    {
     "data": {
      "text/plain": [
       "tensor([[ 1.0669e-04],\n",
       "        [-1.1055e-02],\n",
       "        [ 9.1322e-02],\n",
       "        [ 1.0651e-01],\n",
       "        [ 1.1367e-01],\n",
       "        [ 1.9231e-01],\n",
       "        [ 1.0906e-01],\n",
       "        [ 4.6212e-02],\n",
       "        [ 9.3627e-03],\n",
       "        [ 3.5411e-04]], grad_fn=<AddmmBackward>)"
      ]
     },
     "execution_count": 24,
     "metadata": {},
     "output_type": "execute_result"
    }
   ],
   "source": [
    "calc_layer2"
   ]
  },
  {
   "cell_type": "markdown",
   "metadata": {},
   "source": [
    "- forward method를 확인해보기 위해 10x4의 사이즈를 갖는 tensor를 생성한다.\n",
    "- layer1 연산을 통과한 결과인 calc_layer1은 10x2의 사이즈를 갖는 tensor를 결과로 나타내고있다.\n",
    "- layer2 연산을 통과한 결과인 calc_layer2는 10x1의 사이즈를 갖는 tensor를 결과로 나타내고있다."
   ]
  }
 ],
 "metadata": {
  "kernelspec": {
   "display_name": "Python 3",
   "language": "python",
   "name": "python3"
  },
  "language_info": {
   "codemirror_mode": {
    "name": "ipython",
    "version": 3
   },
   "file_extension": ".py",
   "mimetype": "text/x-python",
   "name": "python",
   "nbconvert_exporter": "python",
   "pygments_lexer": "ipython3",
   "version": "3.7.4"
  }
 },
 "nbformat": 4,
 "nbformat_minor": 4
}
