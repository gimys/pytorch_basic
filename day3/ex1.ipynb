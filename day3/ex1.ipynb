{
 "cells": [
  {
   "cell_type": "markdown",
   "metadata": {},
   "source": [
    "# DAY3"
   ]
  },
  {
   "cell_type": "markdown",
   "metadata": {},
   "source": [
    "## 1. 모델 구현을 통한 pytorch 실습(ANN분류 모델)"
   ]
  },
  {
   "cell_type": "markdown",
   "metadata": {},
   "source": [
    "### 1) 라이브러리 import"
   ]
  },
  {
   "cell_type": "code",
   "execution_count": 1,
   "metadata": {},
   "outputs": [],
   "source": [
    "import torch\n",
    "import numpy as np\n",
    "from sklearn.datasets import make_blobs\n",
    "import matplotlib.pyplot as plt\n",
    "import seaborn as sns\n",
    "import torch.nn.functional as F\n",
    "import pandas as pd\n",
    "import time\n",
    "\n",
    "import warnings\n",
    "warnings.filterwarnings(action='ignore')"
   ]
  },
  {
   "cell_type": "markdown",
   "metadata": {},
   "source": [
    "- torch : 파이토치(딥러닝)\n",
    "- numpy : 수학연산 모듈\n",
    "- sklearn : 머신러닝 모듈(데이터셋 method만)\n",
    "- torch.nn.functional : 파이토치 method 사용을 위해\n",
    "- seaborn : 시각화 모듈\n",
    "- pandas : 데이터 테이블 모듈\n",
    "- warnings : 경고 메세지 무시하기"
   ]
  },
  {
   "cell_type": "markdown",
   "metadata": {},
   "source": [
    "### 2) 데이터 생성하기"
   ]
  },
  {
   "cell_type": "code",
   "execution_count": 2,
   "metadata": {},
   "outputs": [],
   "source": [
    "x_train, y_train = make_blobs(n_samples=80, n_features=2,\n",
    "                              centers=[[1,1],[-1,-1],[1,-1],[-1,1]],\n",
    "                              shuffle=True, cluster_std=0.3)\n",
    "\n",
    "x_test, y_test = make_blobs(n_samples=20, n_features=2,\n",
    "                              centers=[[1,1],[-1,-1],[1,-1],[-1,1]],\n",
    "                              shuffle=True, cluster_std=0.3)"
   ]
  },
  {
   "cell_type": "markdown",
   "metadata": {},
   "source": [
    "- make_blobs는 가우시안 분포의 데이터를 생성하는 method\n",
    "- 샘플개수 80, 특성(차원)은 2, 분포의 중심점은 4곳, 샘플은 섞고, 각 점에서 생성한 클러스터의 표준편차는 0.3\n",
    "- train은 80개의 데이터이고, test는 20개의 데이터이다"
   ]
  },
  {
   "cell_type": "code",
   "execution_count": 3,
   "metadata": {},
   "outputs": [],
   "source": [
    "def label_map(data, a, b):\n",
    "    tmp = np.copy(data)\n",
    "    for i in a:\n",
    "        tmp[data == i] = b\n",
    "    return tmp\n",
    "\n",
    "y_train = label_map(y_train, [0, 1], 0)\n",
    "y_train = label_map(y_train, [2, 3], 1)\n",
    "y_test = label_map(y_test, [0, 1], 0)\n",
    "y_test = label_map(y_test, [2, 3], 1)"
   ]
  },
  {
   "cell_type": "markdown",
   "metadata": {},
   "source": [
    "- 만든 데이터가 0, 1, 2, 3으로 레이블이 4개인데 이를 0,1 -> 0으로 2, 3 -> 1로 2개로 묶는다\n",
    "- 1사분면과 3사분면, 2사분면과 4사분면은 각각 동일한 레이블을 갖는다.\n",
    "- binary classification 문제"
   ]
  },
  {
   "cell_type": "markdown",
   "metadata": {},
   "source": [
    "### 3) 데이터 시각화"
   ]
  },
  {
   "cell_type": "code",
   "execution_count": 4,
   "metadata": {},
   "outputs": [],
   "source": [
    "tmp_graph = np.concatenate((x_train, y_train.reshape(80,1)), axis=1)\n",
    "tmp_graph = pd.DataFrame(tmp_graph, columns=['x', 'y', 'label'])"
   ]
  },
  {
   "cell_type": "code",
   "execution_count": 5,
   "metadata": {},
   "outputs": [
    {
     "data": {
      "text/html": [
       "<div>\n",
       "<style scoped>\n",
       "    .dataframe tbody tr th:only-of-type {\n",
       "        vertical-align: middle;\n",
       "    }\n",
       "\n",
       "    .dataframe tbody tr th {\n",
       "        vertical-align: top;\n",
       "    }\n",
       "\n",
       "    .dataframe thead th {\n",
       "        text-align: right;\n",
       "    }\n",
       "</style>\n",
       "<table border=\"1\" class=\"dataframe\">\n",
       "  <thead>\n",
       "    <tr style=\"text-align: right;\">\n",
       "      <th></th>\n",
       "      <th>x</th>\n",
       "      <th>y</th>\n",
       "      <th>label</th>\n",
       "    </tr>\n",
       "  </thead>\n",
       "  <tbody>\n",
       "    <tr>\n",
       "      <td>0</td>\n",
       "      <td>1.495621</td>\n",
       "      <td>-0.474324</td>\n",
       "      <td>1.0</td>\n",
       "    </tr>\n",
       "    <tr>\n",
       "      <td>1</td>\n",
       "      <td>0.877017</td>\n",
       "      <td>-0.984669</td>\n",
       "      <td>1.0</td>\n",
       "    </tr>\n",
       "    <tr>\n",
       "      <td>2</td>\n",
       "      <td>-1.205554</td>\n",
       "      <td>0.989646</td>\n",
       "      <td>1.0</td>\n",
       "    </tr>\n",
       "    <tr>\n",
       "      <td>3</td>\n",
       "      <td>0.589237</td>\n",
       "      <td>1.216042</td>\n",
       "      <td>0.0</td>\n",
       "    </tr>\n",
       "    <tr>\n",
       "      <td>4</td>\n",
       "      <td>-1.787398</td>\n",
       "      <td>-1.329929</td>\n",
       "      <td>0.0</td>\n",
       "    </tr>\n",
       "  </tbody>\n",
       "</table>\n",
       "</div>"
      ],
      "text/plain": [
       "          x         y  label\n",
       "0  1.495621 -0.474324    1.0\n",
       "1  0.877017 -0.984669    1.0\n",
       "2 -1.205554  0.989646    1.0\n",
       "3  0.589237  1.216042    0.0\n",
       "4 -1.787398 -1.329929    0.0"
      ]
     },
     "execution_count": 5,
     "metadata": {},
     "output_type": "execute_result"
    }
   ],
   "source": [
    "tmp_graph.head()"
   ]
  },
  {
   "cell_type": "code",
   "execution_count": 6,
   "metadata": {
    "scrolled": false
   },
   "outputs": [
    {
     "data": {
      "image/png": "[encoded data removed]",
      "text/plain": [
       "<Figure size 432x288 with 1 Axes>"
      ]
     },
     "metadata": {
      "needs_background": "light"
     },
     "output_type": "display_data"
    }
   ],
   "source": [
    "sns.scatterplot(x='x', y='y', hue='label',style='label',s=100, data=tmp_graph)\n",
    "plt.show()"
   ]
  },
  {
   "cell_type": "markdown",
   "metadata": {},
   "source": [
    "- pandas로 데이터프레임을 만들어서 시각화 준비\n",
    "- seaborn이 시각화 방법이 간단하니 참고"
   ]
  },
  {
   "cell_type": "markdown",
   "metadata": {},
   "source": [
    "### 4) Tenosor 변경 및 모델 생성"
   ]
  },
  {
   "cell_type": "code",
   "execution_count": 7,
   "metadata": {},
   "outputs": [],
   "source": [
    "x_train = torch.Tensor(x_train)\n",
    "x_test = torch.Tensor(x_test)\n",
    "y_train = torch.Tensor(y_train)\n",
    "y_test = torch.Tensor(y_test)"
   ]
  },
  {
   "cell_type": "code",
   "execution_count": 8,
   "metadata": {},
   "outputs": [],
   "source": [
    "class mynet(torch.nn.Module):\n",
    "    def __init__(self, input_size, hidden_size):\n",
    "        super(mynet, self).__init__()\n",
    "        self.input_size = input_size\n",
    "        self.hidden_size = hidden_size\n",
    "        \n",
    "        self.Linear_1 = torch.nn.Linear(self.input_size, self.hidden_size)\n",
    "        self.relu = torch.nn.ReLU()\n",
    "        self.Linear_2 = torch.nn.Linear(self.hidden_size, 1)\n",
    "        self.sigmoid = torch.nn.Sigmoid()\n",
    "    \n",
    "    def forward(self, data):\n",
    "        out = self.Linear_1(data)\n",
    "        out = self.relu(out)\n",
    "        out = self.Linear_2(out)\n",
    "        out = self.sigmoid(out)\n",
    "        return out"
   ]
  },
  {
   "cell_type": "markdown",
   "metadata": {},
   "source": [
    "- pytorch  연산을 위해 np.array를 tensor로 변환\n",
    "- mynet이라는 이름의 선형모델 생성"
   ]
  },
  {
   "cell_type": "markdown",
   "metadata": {},
   "source": [
    "### 5) 신경망 instance 생성 및 평가"
   ]
  },
  {
   "cell_type": "code",
   "execution_count": 9,
   "metadata": {},
   "outputs": [],
   "source": [
    "model = mynet(2, 5)\n",
    "\n",
    "learning_rate = 0.03\n",
    "criterion = torch.nn.BCELoss()\n",
    "epochs = 2000\n",
    "optimizer = torch.optim.SGD(model.parameters(), lr = learning_rate)"
   ]
  },
  {
   "cell_type": "code",
   "execution_count": 10,
   "metadata": {},
   "outputs": [
    {
     "name": "stdout",
     "output_type": "stream",
     "text": [
      "테스트 loss는 0.7418786883354187\n"
     ]
    }
   ],
   "source": [
    "model.eval()\n",
    "test_loss_before = criterion(model(x_test).squeeze(), y_test)\n",
    "print('테스트 loss는 {}'.format(test_loss_before.item()))"
   ]
  },
  {
   "cell_type": "markdown",
   "metadata": {},
   "source": [
    "- learning rate, epochs, optimizer, loss function 등 신경망 설정을 실시\n",
    "- 신경망 테스트를 통해 대략적인 성능을 확인한다\n",
    "- 신경망을 훈련을 반복하여 품질을 개선한다"
   ]
  },
  {
   "cell_type": "markdown",
   "metadata": {},
   "source": [
    "### 6) 신경망 훈련 및 평가"
   ]
  },
  {
   "cell_type": "code",
   "execution_count": 11,
   "metadata": {
    "scrolled": false
   },
   "outputs": [
    {
     "name": "stdout",
     "output_type": "stream",
     "text": [
      "Train loss at 0 is 0.7565191388130188\n",
      "Train loss at 100 is 0.6630149483680725\n",
      "Train loss at 200 is 0.6122743487358093\n",
      "Train loss at 300 is 0.5466663837432861\n",
      "Train loss at 400 is 0.47975292801856995\n",
      "Train loss at 500 is 0.4169706702232361\n",
      "Train loss at 600 is 0.3585531711578369\n",
      "Train loss at 700 is 0.30659088492393494\n",
      "Train loss at 800 is 0.26181358098983765\n",
      "Train loss at 900 is 0.22457513213157654\n",
      "Train loss at 1000 is 0.19410841166973114\n",
      "Train loss at 1100 is 0.16929882764816284\n",
      "Train loss at 1200 is 0.14882254600524902\n",
      "Train loss at 1300 is 0.13187384605407715\n",
      "Train loss at 1400 is 0.11753847450017929\n",
      "Train loss at 1500 is 0.10539134591817856\n",
      "Train loss at 1600 is 0.09503071010112762\n",
      "Train loss at 1700 is 0.08628718554973602\n",
      "Train loss at 1800 is 0.07884868234395981\n",
      "Train loss at 1900 is 0.07245410233736038\n"
     ]
    }
   ],
   "source": [
    "s_time = time.time()\n",
    "for epoch in range(epochs):\n",
    "    model.train()\n",
    "    optimizer.zero_grad()\n",
    "    train_output = model(x_train)\n",
    "    train_loss = criterion(train_output.squeeze(), y_train)\n",
    "    if epoch % 100 == 0:\n",
    "        print('Train loss at {} is {}'.format(epoch, train_loss.item()))\n",
    "    train_loss.backward()\n",
    "    optimizer.step()\n",
    "e_time = time.time()"
   ]
  },
  {
   "cell_type": "code",
   "execution_count": 13,
   "metadata": {},
   "outputs": [
    {
     "name": "stdout",
     "output_type": "stream",
     "text": [
      "After Training, test loss is 0.08926995098590851\n"
     ]
    }
   ],
   "source": [
    "model.eval()\n",
    "test_loss = criterion(model(x_test).squeeze(), y_test) \n",
    "print('After Training, test loss is {}'.format(test_loss.item()))"
   ]
  },
  {
   "cell_type": "markdown",
   "metadata": {},
   "source": [
    "- zero_grad() : 파라메터를 초기화 할 때 사용하며, 이전의 정보가 중요한 RNN에서는 사용하지 않는다.\n",
    "- backward() : backpropagation 계산\n",
    "- optimizer.step() : backpropagation 실시"
   ]
  },
  {
   "cell_type": "markdown",
   "metadata": {},
   "source": [
    "### 7) 모델 저장과 불러오기"
   ]
  },
  {
   "cell_type": "code",
   "execution_count": 14,
   "metadata": {},
   "outputs": [
    {
     "name": "stdout",
     "output_type": "stream",
     "text": [
      "state_dict format of the model: OrderedDict([('Linear_1.weight', tensor([[-0.7790,  0.5540],\n",
      "        [-1.6229, -1.5403],\n",
      "        [-1.6964,  1.1775],\n",
      "        [ 0.0771, -1.7651],\n",
      "        [-1.1370, -1.0827]])), ('Linear_1.bias', tensor([ 0.0140, -0.3856, -0.0295,  1.1223, -0.2467])), ('Linear_2.weight', tensor([[ 0.7461, -2.2126,  1.9987,  1.9265, -1.4662]])), ('Linear_2.bias', tensor([-1.8171]))])\n"
     ]
    }
   ],
   "source": [
    "torch.save(model.state_dict(), './model.pt')\n",
    "print('state_dict format of the model: {}'.format(model.state_dict()))"
   ]
  },
  {
   "cell_type": "code",
   "execution_count": 18,
   "metadata": {},
   "outputs": [
    {
     "name": "stdout",
     "output_type": "stream",
     "text": [
      "벡터 [-1, 1]이 레이블 1을 가질 확률은 0.9924069046974182\n"
     ]
    }
   ],
   "source": [
    "new_model = mynet(2, 5)\n",
    "new_model.load_state_dict(torch.load('./model.pt'))\n",
    "new_model.eval()\n",
    "print('벡터 [-1, 1]이 레이블 1을 가질 확률은 {}'.format(new_model(torch.FloatTensor([-1,1])).item()))"
   ]
  },
  {
   "cell_type": "markdown",
   "metadata": {},
   "source": [
    "- 모델을 저장하고 불러와서 사용할 수 있다"
   ]
  },
  {
   "cell_type": "code",
   "execution_count": null,
   "metadata": {},
   "outputs": [],
   "source": []
  }
 ],
 "metadata": {
  "kernelspec": {
   "display_name": "Python 3",
   "language": "python",
   "name": "python3"
  },
  "language_info": {
   "codemirror_mode": {
    "name": "ipython",
    "version": 3
   },
   "file_extension": ".py",
   "mimetype": "text/x-python",
   "name": "python",
   "nbconvert_exporter": "python",
   "pygments_lexer": "ipython3",
   "version": "3.7.4"
  }
 },
 "nbformat": 4,
 "nbformat_minor": 2
}
